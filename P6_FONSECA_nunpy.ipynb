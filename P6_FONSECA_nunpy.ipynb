{
  "nbformat": 4,
  "nbformat_minor": 0,
  "metadata": {
    "colab": {
      "provenance": [],
      "include_colab_link": true
    },
    "kernelspec": {
      "name": "python3",
      "display_name": "Python 3"
    },
    "language_info": {
      "name": "python"
    }
  },
  "cells": [
    {
      "cell_type": "markdown",
      "metadata": {
        "id": "view-in-github",
        "colab_type": "text"
      },
      "source": [
        "<a href=\"https://colab.research.google.com/github/HiddenEasyy/francisco/blob/master/P6_FONSECA_nunpy.ipynb\" target=\"_parent\"><img src=\"https://colab.research.google.com/assets/colab-badge.svg\" alt=\"Open In Colab\"/></a>"
      ]
    },
    {
      "cell_type": "markdown",
      "source": [
        "**Taller** 6"
      ],
      "metadata": {
        "id": "YNF_nQN29Vza"
      }
    },
    {
      "cell_type": "markdown",
      "source": [
        "Primero importamos las librerias para leer el csv y las otras para graficar"
      ],
      "metadata": {
        "id": "0NIbLw2eASqX"
      }
    },
    {
      "cell_type": "code",
      "execution_count": 32,
      "metadata": {
        "id": "JhjOsHeUwooL"
      },
      "outputs": [],
      "source": [
        "#import pandas as pd\n",
        "import matplotlib.pyplot as plt\n",
        "import seaborn as sns\n",
        "import numpy as np"
      ]
    },
    {
      "cell_type": "markdown",
      "source": [
        "Le damos la ruta del archivo csv para que pueda leer con el comadno de NumPy"
      ],
      "metadata": {
        "id": "AhlEJtxuAeLk"
      }
    },
    {
      "cell_type": "code",
      "source": [
        "#Cargar el archivo en listta python\n",
        "with open(\"iris.csv\", \"r\") as file:\n",
        "    lines = file.readlines()\n",
        "    data_list = [line.strip().split(\",\") for line in lines[1:]]\n",
        "#Pasar el archivo a un arreglo de numpy\n",
        "iris = np.array(data_list)"
      ],
      "metadata": {
        "id": "65DO5xe-D3uL"
      },
      "execution_count": 73,
      "outputs": []
    },
    {
      "cell_type": "code",
      "source": [
        "\n",
        "\n",
        "# Cargar el archivo CSV en un array de NumPy\n",
        "iris = np.genfromtxt('/content/iris.csv', delimiter=',', skip_header=True, dtype=float)\n",
        "#Eliminar una columna que no contiene numeros flotantes\n",
        "iris_sin_variety = iris[:, :-1]\n"
      ],
      "metadata": {
        "id": "51hj4YzN_R5X"
      },
      "execution_count": 77,
      "outputs": []
    },
    {
      "cell_type": "code",
      "source": [
        "#iris.shape #nos da el numero de datos en renglones y columnas\n",
        "iris.shape"
      ],
      "metadata": {
        "colab": {
          "base_uri": "https://localhost:8080/"
        },
        "id": "XM3vuojjA3cD",
        "outputId": "e1dac4b9-e48f-4190-abd1-34ff05d2b5cb"
      },
      "execution_count": 94,
      "outputs": [
        {
          "output_type": "execute_result",
          "data": {
            "text/plain": [
              "(150, 5)"
            ]
          },
          "metadata": {},
          "execution_count": 94
        }
      ]
    },
    {
      "cell_type": "code",
      "source": [
        "# Acceder a una columna específica: sepal.length\n",
        "sepal_length = iris[:, 0]\n",
        "\n",
        "#print(sepal_width_y_petal_length)\n",
        "print(sepal_length)"
      ],
      "metadata": {
        "colab": {
          "base_uri": "https://localhost:8080/"
        },
        "id": "158Gx7lFAWfc",
        "outputId": "dfee1e08-9e0a-46db-c1ab-56906d946b19"
      },
      "execution_count": 97,
      "outputs": [
        {
          "output_type": "stream",
          "name": "stdout",
          "text": [
            "[5.1 4.9 4.7 4.6 5.  5.4 4.6 5.  4.4 4.9 5.4 4.8 4.8 4.3 5.8 5.7 5.4 5.1\n",
            " 5.7 5.1 5.4 5.1 4.6 5.1 4.8 5.  5.  5.2 5.2 4.7 4.8 5.4 5.2 5.5 4.9 5.\n",
            " 5.5 4.9 4.4 5.1 5.  4.5 4.4 5.  5.1 4.8 5.1 4.6 5.3 5.  7.  6.4 6.9 5.5\n",
            " 6.5 5.7 6.3 4.9 6.6 5.2 5.  5.9 6.  6.1 5.6 6.7 5.6 5.8 6.2 5.6 5.9 6.1\n",
            " 6.3 6.1 6.4 6.6 6.8 6.7 6.  5.7 5.5 5.5 5.8 6.  5.4 6.  6.7 6.3 5.6 5.5\n",
            " 5.5 6.1 5.8 5.  5.6 5.7 5.7 6.2 5.1 5.7 6.3 5.8 7.1 6.3 6.5 7.6 4.9 7.3\n",
            " 6.7 7.2 6.5 6.4 6.8 5.7 5.8 6.4 6.5 7.7 7.7 6.  6.9 5.6 7.7 6.3 6.7 7.2\n",
            " 6.2 6.1 6.4 7.2 7.4 7.9 6.4 6.3 6.1 7.7 6.3 6.4 6.  6.9 6.7 6.9 5.8 6.8\n",
            " 6.7 6.7 6.3 6.5 6.2 5.9]\n"
          ]
        }
      ]
    },
    {
      "cell_type": "code",
      "source": [
        "# Acceder a múltiples columnas: sepal.width y petal.length\n",
        "sepal_width_y_petal_length = iris[:, [1, 2]]\n",
        "print(sepal_width_y_petal_length)"
      ],
      "metadata": {
        "id": "1YoP0eiKLThn"
      },
      "execution_count": null,
      "outputs": []
    },
    {
      "cell_type": "code",
      "source": [
        "# Calcular la media de una columna (por ejemplo, sepal.width)\n",
        "mean_sepal_width = np.mean(iris[:, 1])\n",
        "mean_sepal_length = np.mean(iris[:, 0])\n",
        "\n",
        "#Promedio del area del sepalo\n",
        "prom_sepal= mean_sepal_length*mean_sepal_width\n",
        "print(\"La media de la columna sepal.width es: \",mean_sepal_width)\n",
        "print(\"La media de la columna sepal.length es: \",mean_sepal_length)\n",
        "print(\"El promedio del area del sepalo es: \", prom_sepal)"
      ],
      "metadata": {
        "colab": {
          "base_uri": "https://localhost:8080/"
        },
        "id": "dMKdD4T84q-k",
        "outputId": "33778d12-421b-48b7-971a-4077b6623164"
      },
      "execution_count": 105,
      "outputs": [
        {
          "output_type": "stream",
          "name": "stdout",
          "text": [
            "La media de la columna sepal.width es:  3.0573333333333337\n",
            "La media de la columna sepal.length es:  5.843333333333334\n",
            "El promedio del area del sepalo es:  17.86501777777778\n"
          ]
        }
      ]
    },
    {
      "cell_type": "code",
      "source": [
        "# Calcular la media de una columna petalo L y A\n",
        "mean_petal_width = np.mean(iris[:, 2])\n",
        "mean_petal_length = np.mean(iris[:, 3])\n",
        "\n",
        "print(\"La media de la columna petal.width es: \",mean_petal_width)\n",
        "print(\"La media de la columna petall.length es: \",mean_petal_length)"
      ],
      "metadata": {
        "colab": {
          "base_uri": "https://localhost:8080/"
        },
        "id": "yhBEKwmnQ-1Q",
        "outputId": "f3b73709-1a96-4d3e-950d-6ffb56b2fbd0"
      },
      "execution_count": 100,
      "outputs": [
        {
          "output_type": "stream",
          "name": "stdout",
          "text": [
            "La media de la columna petal.width es:  3.7580000000000005\n",
            "La media de la columna petall.length es:  1.1993333333333336\n"
          ]
        }
      ]
    },
    {
      "cell_type": "code",
      "source": [
        "#Calcular el promedio de los petalos\n",
        "prom_petal=mean_petal_length * mean_petal_width\n",
        "print(prom_petal)"
      ],
      "metadata": {
        "colab": {
          "base_uri": "https://localhost:8080/"
        },
        "id": "I4yAXQcPWndn",
        "outputId": "d08b8e5f-6194-41b1-ae17-18a132a7acc1"
      },
      "execution_count": 104,
      "outputs": [
        {
          "output_type": "stream",
          "name": "stdout",
          "text": [
            "4.507094666666668\n"
          ]
        }
      ]
    },
    {
      "cell_type": "code",
      "source": [
        "# Filtrar filas donde sepal.length es mayor que 7.0\n",
        "#Elimine la columna variety ya que no la detecta porque estoy usando solo flotantes\n",
        "sepal_length_mayor = iris_sin_variety[iris[:, 0] > 7.0]\n",
        "\n",
        "print(sepal_length_mayor)"
      ],
      "metadata": {
        "colab": {
          "base_uri": "https://localhost:8080/"
        },
        "id": "KiAgMfr-BdtQ",
        "outputId": "b4b9dbc7-1f3e-4bd7-e50e-cc06d545c0dd"
      },
      "execution_count": 102,
      "outputs": [
        {
          "output_type": "stream",
          "name": "stdout",
          "text": [
            "[[7.1 3.  5.9 2.1]\n",
            " [7.6 3.  6.6 2.1]\n",
            " [7.3 2.9 6.3 1.8]\n",
            " [7.2 3.6 6.1 2.5]\n",
            " [7.7 3.8 6.7 2.2]\n",
            " [7.7 2.6 6.9 2.3]\n",
            " [7.7 2.8 6.7 2. ]\n",
            " [7.2 3.2 6.  1.8]\n",
            " [7.2 3.  5.8 1.6]\n",
            " [7.4 2.8 6.1 1.9]\n",
            " [7.9 3.8 6.4 2. ]\n",
            " [7.7 3.  6.1 2.3]]\n"
          ]
        }
      ]
    }
  ]
}